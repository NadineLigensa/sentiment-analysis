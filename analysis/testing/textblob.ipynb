{
 "cells": [
  {
   "cell_type": "markdown",
   "metadata": {},
   "source": [
    "## Test everything with only lexica based approach"
   ]
  },
  {
   "cell_type": "code",
   "execution_count": 6,
   "metadata": {},
   "outputs": [],
   "source": [
    "import pandas as pd\n",
    "from textblob import TextBlob"
   ]
  },
  {
   "cell_type": "code",
   "execution_count": 3,
   "metadata": {},
   "outputs": [],
   "source": [
    "# Preprocess text (username and link placeholders)\n",
    "def preprocess(text):\n",
    "\n",
    "    # emojis entfernen\n",
    "    #text = ersetze_emojis(text)\n",
    "\n",
    "    # lemmatizer = WordNetLemmatizer()\n",
    "    # words = text.split()\n",
    "    # lemmatized_words = [lemmatizer.lemmatize(word) for word in words]\n",
    "    # text = ' '.join(lemmatized_words)\n",
    "\n",
    "\n",
    "    new_text = []\n",
    "    for t in text.split(\" \"):\n",
    "        t = '@user' if t.startswith('@') and len(t) > 1 else t\n",
    "        t = 'http' if t.startswith('http') else t\n",
    "        new_text.append(t)\n",
    "    return \" \".join(new_text)"
   ]
  },
  {
   "cell_type": "code",
   "execution_count": 9,
   "metadata": {},
   "outputs": [
    {
     "name": "stdout",
     "output_type": "stream",
     "text": [
      "Genauigkeit: 54.80%\n"
     ]
    }
   ],
   "source": [
    "# Laden Sie Ihren CSV-Datensatz\n",
    "csv_file = \"../../data/val_data.csv\"  # Ersetzen Sie durch den Pfad zu Ihrer CSV-Datei\n",
    "df = pd.read_csv(csv_file)\n",
    "\n",
    "# Leere Listen zum Speichern der vorhergesagten Sentiments und der tatsächlichen Labels\n",
    "predicted_sentiments = []\n",
    "actual_labels = []\n",
    "\n",
    "count = 0\n",
    "# Durchlaufen Sie jeden Eintrag im DataFrame und wenden Sie das Modell an\n",
    "for index, row in df.iterrows():\n",
    "    text = row['text']\n",
    "    text = preprocess(text)\n",
    "    blob = TextBlob(text)\n",
    "    score = blob.sentiment.polarity\n",
    "    if (score > 0.15):\n",
    "        predicted_label_id = 2\n",
    "        # Speichern Sie das vorhergesagte Sentiment und das tatsächliche Label\n",
    "        predicted_sentiments.append(predicted_label_id)\n",
    "        actual_labels.append(row['label'])\n",
    "    elif (score < -0.15):\n",
    "        predicted_label_id = 0\n",
    "        # Speichern Sie das vorhergesagte Sentiment und das tatsächliche Label\n",
    "        predicted_sentiments.append(predicted_label_id)\n",
    "        actual_labels.append(row['label'])\n",
    "    else:\n",
    "        predicted_label_id = 1\n",
    "        # Speichern Sie das vorhergesagte Sentiment und das tatsächliche Label\n",
    "        predicted_sentiments.append(predicted_label_id)\n",
    "        actual_labels.append(row['label'])\n",
    "    \n",
    "\n",
    "# Fügen Sie die vorhergesagten Sentiments und die tatsächlichen Labels als neue Spalten zum DataFrame hinzu\n",
    "df['predicted_sentiment'] = predicted_sentiments\n",
    "\n",
    "# Vergleichen Sie die vorhergesagten Sentiments mit den tatsächlichen Labels\n",
    "correct_predictions = (df['predicted_sentiment'] == df['label']).sum()\n",
    "total_predictions = len(df)\n",
    "\n",
    "# Berechnen Sie die Genauigkeit (Accuracy) der Vorhersagen\n",
    "accuracy = correct_predictions / total_predictions\n",
    "\n",
    "# Drucken Sie die Genauigkeit\n",
    "print(f\"Genauigkeit: {accuracy:.2%}\")\n"
   ]
  },
  {
   "cell_type": "code",
   "execution_count": 10,
   "metadata": {},
   "outputs": [
    {
     "data": {
      "text/html": [
       "<div>\n",
       "<style scoped>\n",
       "    .dataframe tbody tr th:only-of-type {\n",
       "        vertical-align: middle;\n",
       "    }\n",
       "\n",
       "    .dataframe tbody tr th {\n",
       "        vertical-align: top;\n",
       "    }\n",
       "\n",
       "    .dataframe thead th {\n",
       "        text-align: right;\n",
       "    }\n",
       "</style>\n",
       "<table border=\"1\" class=\"dataframe\">\n",
       "  <thead>\n",
       "    <tr style=\"text-align: right;\">\n",
       "      <th></th>\n",
       "      <th>text</th>\n",
       "      <th>label</th>\n",
       "      <th>predicted_sentiment</th>\n",
       "    </tr>\n",
       "  </thead>\n",
       "  <tbody>\n",
       "    <tr>\n",
       "      <th>0</th>\n",
       "      <td>Dark Souls 3 April Launch Date Confirmed With ...</td>\n",
       "      <td>1</td>\n",
       "      <td>1</td>\n",
       "    </tr>\n",
       "    <tr>\n",
       "      <th>1</th>\n",
       "      <td>\"National hot dog day, national tequila day, t...</td>\n",
       "      <td>2</td>\n",
       "      <td>1</td>\n",
       "    </tr>\n",
       "    <tr>\n",
       "      <th>2</th>\n",
       "      <td>When girls become bandwagon fans of the Packer...</td>\n",
       "      <td>0</td>\n",
       "      <td>1</td>\n",
       "    </tr>\n",
       "    <tr>\n",
       "      <th>3</th>\n",
       "      <td>@user I may or may not have searched it up on ...</td>\n",
       "      <td>1</td>\n",
       "      <td>1</td>\n",
       "    </tr>\n",
       "    <tr>\n",
       "      <th>4</th>\n",
       "      <td>Here's your starting TUESDAY MORNING Line up a...</td>\n",
       "      <td>1</td>\n",
       "      <td>1</td>\n",
       "    </tr>\n",
       "  </tbody>\n",
       "</table>\n",
       "</div>"
      ],
      "text/plain": [
       "                                                text  label  \\\n",
       "0  Dark Souls 3 April Launch Date Confirmed With ...      1   \n",
       "1  \"National hot dog day, national tequila day, t...      2   \n",
       "2  When girls become bandwagon fans of the Packer...      0   \n",
       "3  @user I may or may not have searched it up on ...      1   \n",
       "4  Here's your starting TUESDAY MORNING Line up a...      1   \n",
       "\n",
       "   predicted_sentiment  \n",
       "0                    1  \n",
       "1                    1  \n",
       "2                    1  \n",
       "3                    1  \n",
       "4                    1  "
      ]
     },
     "execution_count": 10,
     "metadata": {},
     "output_type": "execute_result"
    }
   ],
   "source": [
    "df.head()"
   ]
  },
  {
   "cell_type": "code",
   "execution_count": 11,
   "metadata": {},
   "outputs": [
    {
     "name": "stdout",
     "output_type": "stream",
     "text": [
      "Verwirrungsmatrix:\n",
      "              Predicted Class 0  Predicted Class 1  Predicted Class 2\n",
      "True Class 0                 65                210                 37\n",
      "True Class 1                 57                672                140\n",
      "True Class 2                 24                436                359\n",
      "\n",
      "Precision und Recall pro Klasse:\n",
      "         Precision    Recall\n",
      "Class 0   0.445205  0.208333\n",
      "Class 1   0.509863  0.773303\n",
      "Class 2   0.669776  0.438339\n",
      "\n",
      "Macro Precision: 0.54\n",
      "Macro Recall: 0.47\n"
     ]
    }
   ],
   "source": [
    "import pandas as pd\n",
    "from sklearn.metrics import confusion_matrix, precision_score, recall_score\n",
    "\n",
    "# Ihre Verwirrungsmatrix\n",
    "conf_matrix = confusion_matrix(df['label'], df['predicted_sentiment'])\n",
    "\n",
    "# Berechnen Sie die Precision und den Recall für jede Klasse\n",
    "precision = precision_score(df['label'], df['predicted_sentiment'], average=None)\n",
    "recall = recall_score(df['label'], df['predicted_sentiment'], average=None)\n",
    "\n",
    "# Berechnen Sie den gewichteten Durchschnitt von Precision und Recall (Macro-Durchschnitt)\n",
    "macro_precision = precision_score(df['label'], df['predicted_sentiment'], average='macro')\n",
    "macro_recall = recall_score(df['label'], df['predicted_sentiment'], average='macro')\n",
    "\n",
    "# Erstellen Sie ein DataFrame für die Verwirrungsmatrix\n",
    "confusion_df = pd.DataFrame(conf_matrix, columns=[\"Predicted Class 0\", \"Predicted Class 1\", \"Predicted Class 2\"], index=[\"True Class 0\", \"True Class 1\", \"True Class 2\"])\n",
    "\n",
    "# Drucken Sie die Verwirrungsmatrix\n",
    "print(\"Verwirrungsmatrix:\")\n",
    "print(confusion_df)\n",
    "\n",
    "# Erstellen Sie ein DataFrame für Precision und Recall\n",
    "precision_recall_df = pd.DataFrame({\"Precision\": precision, \"Recall\": recall}, index=[\"Class 0\", \"Class 1\", \"Class 2\"])\n",
    "\n",
    "# Drucken Sie die Precision und den Recall für jede Klasse\n",
    "print(\"\\nPrecision und Recall pro Klasse:\")\n",
    "print(precision_recall_df)\n",
    "\n",
    "# Drucken Sie den gewichteten Durchschnitt von Precision und Recall (Macro-Durchschnitt)\n",
    "print(f\"\\nMacro Precision: {macro_precision:.2f}\")\n",
    "print(f\"Macro Recall: {macro_recall:.2f}\")\n"
   ]
  }
 ],
 "metadata": {
  "interpreter": {
   "hash": "fe54a73c18050b6d50975a0cc591f481f480ecb39df2bfc4b76ac59282f6b0b9"
  },
  "kernelspec": {
   "display_name": "Python 3.9.7 ('base')",
   "language": "python",
   "name": "python3"
  },
  "language_info": {
   "codemirror_mode": {
    "name": "ipython",
    "version": 3
   },
   "file_extension": ".py",
   "mimetype": "text/x-python",
   "name": "python",
   "nbconvert_exporter": "python",
   "pygments_lexer": "ipython3",
   "version": "3.9.7"
  },
  "orig_nbformat": 4
 },
 "nbformat": 4,
 "nbformat_minor": 2
}
