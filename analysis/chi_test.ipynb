{
 "cells": [
  {
   "cell_type": "code",
   "execution_count": 1,
   "metadata": {},
   "outputs": [],
   "source": [
    "from scipy.stats import chi2_contingency\n",
    "\n",
    "# Beobachtete Werte\n",
    "observed = [\n",
    "    [440, 849, 1552],  # brand_activism\n",
    "    [590, 583, 762]    # not_brand_activism\n",
    "]\n",
    "\n",
    "# Chi-Quadrat-Test durchführen\n",
    "chi2, p, dof, expected = chi2_contingency(observed)\n",
    "\n",
    "# Ausgabe der Ergebnisse\n",
    "print(f\"Chi-Quadrat-Wert: {chi2}\")\n",
    "print(f\"P-Wert: {p}\")\n",
    "print(f\"Freiheitsgrade: {dof}\")\n",
    "print(\"Erwartete Werte:\")\n",
    "print(expected)\n"
   ]
  }
 ],
 "metadata": {
  "kernelspec": {
   "display_name": "Python 3",
   "language": "python",
   "name": "python3"
  },
  "language_info": {
   "codemirror_mode": {
    "name": "ipython",
    "version": 3
   },
   "file_extension": ".py",
   "mimetype": "text/x-python",
   "name": "python",
   "nbconvert_exporter": "python",
   "pygments_lexer": "ipython3",
   "version": "3.11.5"
  },
  "orig_nbformat": 4
 },
 "nbformat": 4,
 "nbformat_minor": 2
}
