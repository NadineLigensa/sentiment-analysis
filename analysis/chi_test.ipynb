{
 "cells": [
  {
   "cell_type": "code",
   "execution_count": 24,
   "metadata": {},
   "outputs": [
    {
     "name": "stdout",
     "output_type": "stream",
     "text": [
      "Chi-Quadrat-Wert: 145.66099945778714\n",
      "P-Wert: 2.3448542510959523e-32\n",
      "Freiheitsgrade: 2\n",
      "Erwartete Werte:\n",
      "[[5263.46803911 1681.41801338  607.1139475 ]\n",
      " [1507.53196089  481.58198662  173.8860525 ]]\n"
     ]
    }
   ],
   "source": [
    "from scipy.stats import chi2_contingency\n",
    "\n",
    "# Beobachtete Werte\n",
    "observed = [\n",
    "    [5279, 1790, 483],  # brand_activism\n",
    "    [1492, 373, 298]    # not_brand_activism\n",
    "]\n",
    "\n",
    "# Chi-Quadrat-Test durchführen\n",
    "chi2, p, dof, expected = chi2_contingency(observed)\n",
    "\n",
    "# Ausgabe der Ergebnisse\n",
    "print(f\"Chi-Quadrat-Wert: {chi2}\")\n",
    "print(f\"P-Wert: {p}\")\n",
    "print(f\"Freiheitsgrade: {dof}\")\n",
    "print(\"Erwartete Werte:\")\n",
    "print(expected)\n"
   ]
  },
  {
   "cell_type": "markdown",
   "metadata": {},
   "source": []
  }
 ],
 "metadata": {
  "kernelspec": {
   "display_name": "Python 3",
   "language": "python",
   "name": "python3"
  },
  "language_info": {
   "codemirror_mode": {
    "name": "ipython",
    "version": 3
   },
   "file_extension": ".py",
   "mimetype": "text/x-python",
   "name": "python",
   "nbconvert_exporter": "python",
   "pygments_lexer": "ipython3",
   "version": "3.11.5"
  },
  "orig_nbformat": 4
 },
 "nbformat": 4,
 "nbformat_minor": 2
}
