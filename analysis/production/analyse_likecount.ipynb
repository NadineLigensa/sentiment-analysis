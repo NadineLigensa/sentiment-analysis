{
 "cells": [
  {
   "cell_type": "markdown",
   "metadata": {},
   "source": [
    "## Import Statements"
   ]
  },
  {
   "cell_type": "code",
   "execution_count": 1,
   "metadata": {},
   "outputs": [],
   "source": [
    "import pandas as pd"
   ]
  },
  {
   "cell_type": "markdown",
   "metadata": {},
   "source": [
    "## Load data from specific file"
   ]
  },
  {
   "cell_type": "code",
   "execution_count": 2,
   "metadata": {},
   "outputs": [],
   "source": [
    "csv_file = \"../../files/amazon.csv\"  # Ersetzen Sie durch den Pfad zu Ihrer CSV-Datei\n",
    "df = pd.read_csv(csv_file)"
   ]
  },
  {
   "cell_type": "code",
   "execution_count": 3,
   "metadata": {},
   "outputs": [
    {
     "data": {
      "text/html": [
       "<div>\n",
       "<style scoped>\n",
       "    .dataframe tbody tr th:only-of-type {\n",
       "        vertical-align: middle;\n",
       "    }\n",
       "\n",
       "    .dataframe tbody tr th {\n",
       "        vertical-align: top;\n",
       "    }\n",
       "\n",
       "    .dataframe thead th {\n",
       "        text-align: right;\n",
       "    }\n",
       "</style>\n",
       "<table border=\"1\" class=\"dataframe\">\n",
       "  <thead>\n",
       "    <tr style=\"text-align: right;\">\n",
       "      <th></th>\n",
       "      <th>ID</th>\n",
       "      <th>Text</th>\n",
       "      <th>Is_Activism</th>\n",
       "      <th>Category</th>\n",
       "      <th>Post_Id</th>\n",
       "      <th>Like_Count</th>\n",
       "    </tr>\n",
       "  </thead>\n",
       "  <tbody>\n",
       "    <tr>\n",
       "      <th>0</th>\n",
       "      <td>1</td>\n",
       "      <td>#adidasstealfromitsworkers STOP DOING WAGE THE...</td>\n",
       "      <td>False</td>\n",
       "      <td>None</td>\n",
       "      <td>Cu4Qupou_H0</td>\n",
       "      <td>13</td>\n",
       "    </tr>\n",
       "    <tr>\n",
       "      <th>1</th>\n",
       "      <td>2</td>\n",
       "      <td>PAY until they can't look away #payyourworkers</td>\n",
       "      <td>False</td>\n",
       "      <td>None</td>\n",
       "      <td>Cu4Qupou_H0</td>\n",
       "      <td>8</td>\n",
       "    </tr>\n",
       "    <tr>\n",
       "      <th>2</th>\n",
       "      <td>3</td>\n",
       "      <td>i wish adidas at least stopped using kangaroo ...</td>\n",
       "      <td>False</td>\n",
       "      <td>None</td>\n",
       "      <td>Cu4Qupou_H0</td>\n",
       "      <td>24</td>\n",
       "    </tr>\n",
       "    <tr>\n",
       "      <th>3</th>\n",
       "      <td>4</td>\n",
       "      <td>Jenna and Messi 🙏🏽👌🏽</td>\n",
       "      <td>False</td>\n",
       "      <td>None</td>\n",
       "      <td>Cu4Qupou_H0</td>\n",
       "      <td>88</td>\n",
       "    </tr>\n",
       "    <tr>\n",
       "      <th>4</th>\n",
       "      <td>5</td>\n",
       "      <td>Stop kangaroo massacre!</td>\n",
       "      <td>False</td>\n",
       "      <td>None</td>\n",
       "      <td>Cu4Qupou_H0</td>\n",
       "      <td>28</td>\n",
       "    </tr>\n",
       "  </tbody>\n",
       "</table>\n",
       "</div>"
      ],
      "text/plain": [
       "   ID                                               Text  Is_Activism  \\\n",
       "0   1  #adidasstealfromitsworkers STOP DOING WAGE THE...        False   \n",
       "1   2     PAY until they can't look away #payyourworkers        False   \n",
       "2   3  i wish adidas at least stopped using kangaroo ...        False   \n",
       "3   4                               Jenna and Messi 🙏🏽👌🏽        False   \n",
       "4   5                            Stop kangaroo massacre!        False   \n",
       "\n",
       "  Category      Post_Id  Like_Count  \n",
       "0     None  Cu4Qupou_H0          13  \n",
       "1     None  Cu4Qupou_H0           8  \n",
       "2     None  Cu4Qupou_H0          24  \n",
       "3     None  Cu4Qupou_H0          88  \n",
       "4     None  Cu4Qupou_H0          28  "
      ]
     },
     "execution_count": 3,
     "metadata": {},
     "output_type": "execute_result"
    }
   ],
   "source": [
    "df.head()"
   ]
  },
  {
   "cell_type": "markdown",
   "metadata": {},
   "source": [
    "## Get Likecount of each category"
   ]
  },
  {
   "cell_type": "code",
   "execution_count": 7,
   "metadata": {},
   "outputs": [
    {
     "name": "stdout",
     "output_type": "stream",
     "text": [
      "       Kategorie  Anzahl Kommentare  Gesamter Like Count\n",
      "0  Environmental               1143                10132\n",
      "1           None               1186                 3682\n"
     ]
    }
   ],
   "source": [
    "# Gruppieren nach der Kategorie und Aggregieren der gewünschten Werte\n",
    "result = df.groupby('Category').agg({'Text': 'count', 'Like_Count': 'sum'}).reset_index()\n",
    "result.columns = ['Kategorie', 'Anzahl Kommentare', 'Gesamter Like Count']\n"
   ]
  },
  {
   "cell_type": "code",
   "execution_count": 8,
   "metadata": {},
   "outputs": [
    {
     "data": {
      "text/html": [
       "<div>\n",
       "<style scoped>\n",
       "    .dataframe tbody tr th:only-of-type {\n",
       "        vertical-align: middle;\n",
       "    }\n",
       "\n",
       "    .dataframe tbody tr th {\n",
       "        vertical-align: top;\n",
       "    }\n",
       "\n",
       "    .dataframe thead th {\n",
       "        text-align: right;\n",
       "    }\n",
       "</style>\n",
       "<table border=\"1\" class=\"dataframe\">\n",
       "  <thead>\n",
       "    <tr style=\"text-align: right;\">\n",
       "      <th></th>\n",
       "      <th>Kategorie</th>\n",
       "      <th>Anzahl Kommentare</th>\n",
       "      <th>Gesamter Like Count</th>\n",
       "    </tr>\n",
       "  </thead>\n",
       "  <tbody>\n",
       "    <tr>\n",
       "      <th>0</th>\n",
       "      <td>Environmental</td>\n",
       "      <td>1143</td>\n",
       "      <td>10132</td>\n",
       "    </tr>\n",
       "    <tr>\n",
       "      <th>1</th>\n",
       "      <td>None</td>\n",
       "      <td>1186</td>\n",
       "      <td>3682</td>\n",
       "    </tr>\n",
       "  </tbody>\n",
       "</table>\n",
       "</div>"
      ],
      "text/plain": [
       "       Kategorie  Anzahl Kommentare  Gesamter Like Count\n",
       "0  Environmental               1143                10132\n",
       "1           None               1186                 3682"
      ]
     },
     "execution_count": 8,
     "metadata": {},
     "output_type": "execute_result"
    }
   ],
   "source": [
    "result"
   ]
  }
 ],
 "metadata": {
  "interpreter": {
   "hash": "fe54a73c18050b6d50975a0cc591f481f480ecb39df2bfc4b76ac59282f6b0b9"
  },
  "kernelspec": {
   "display_name": "Python 3.9.7 ('base')",
   "language": "python",
   "name": "python3"
  },
  "language_info": {
   "codemirror_mode": {
    "name": "ipython",
    "version": 3
   },
   "file_extension": ".py",
   "mimetype": "text/x-python",
   "name": "python",
   "nbconvert_exporter": "python",
   "pygments_lexer": "ipython3",
   "version": "3.9.7"
  },
  "orig_nbformat": 4
 },
 "nbformat": 4,
 "nbformat_minor": 2
}
